{
 "cells": [
  {
   "cell_type": "code",
   "execution_count": 2,
   "id": "511c598b-b94e-431e-ab68-2d4b1050536c",
   "metadata": {},
   "outputs": [],
   "source": [
    "import os\n",
    "import fastmri\n",
    "import numpy as np\n",
    "import torch\n",
    "import pytorch_lightning as pl\n",
    "import PIL\n",
    "import pandas as pd\n",
    "import h5py\n",
    "from matplotlib import pyplot as plt\n",
    "\n",
    "%matplotlib inline"
   ]
  },
  {
   "cell_type": "code",
   "execution_count": 3,
   "id": "695098e2-7320-423b-9f7d-27b0a44fcfff",
   "metadata": {},
   "outputs": [
    {
     "output_type": "execute_result",
     "data": {
      "text/plain": [
       "'0.1.2a20210917b'"
      ]
     },
     "metadata": {},
     "execution_count": 3
    }
   ],
   "source": [
    "fastmri.__version__"
   ]
  },
  {
   "cell_type": "code",
   "execution_count": 4,
   "metadata": {},
   "outputs": [],
   "source": [
    "brain_mri_datapath = \"/data/projects/recon/data/public/fastmri/brain/data/FLAIR/multicoil_train/\"\n",
    "mri_files = os.listdir(brain_mri_datapath)\n",
    "\n",
    "annotation_path = \"/home/lgdejong/scratch/project/RecSeg/annotations/\"\n",
    "annotation_file = \"brain.csv\" \n",
    "annotation_file_list = \"brain_file_list.csv\"\n",
    "\n",
    "annatations_df = pd.read_csv(os.path.join(annotation_path, annotation_file), index_col=None)\n",
    "file_list_df = pd.read_csv(os.path.join(annotation_path, annotation_file_list), header=None)\n",
    "file_names = file_list_df[0].to_list()\n",
    "file_names = [i+\".h5\" for i in file_names]\n",
    "\n",
    "annotated_file_names = list(set(mri_files).intersection(set(file_names)))\n",
    "annotated_file_names.sort()"
   ]
  },
  {
   "cell_type": "code",
   "execution_count": 5,
   "metadata": {},
   "outputs": [
    {
     "output_type": "execute_result",
     "data": {
      "text/plain": [
       "                                 file  slice study_level      x      y  width  \\\n",
       "0      file_brain_AXFLAIR_200_6002425      2          No   91.0  132.0    7.0   \n",
       "1      file_brain_AXFLAIR_200_6002425      5          No  210.0  170.0    7.0   \n",
       "2      file_brain_AXFLAIR_200_6002425      5          No   93.0  167.0    6.0   \n",
       "3      file_brain_AXFLAIR_200_6002425      5          No   83.0  177.0    4.0   \n",
       "4      file_brain_AXFLAIR_200_6002425      9          No  175.0  170.0    6.0   \n",
       "...                               ...    ...         ...    ...    ...    ...   \n",
       "8208  file_brain_AXT1POST_201_6002806      6          No  112.0   71.0   45.0   \n",
       "8209  file_brain_AXT1POST_201_6002806      6          No   99.0   69.0   65.0   \n",
       "8210  file_brain_AXT1POST_201_6002806      7          No  100.0   69.0   61.0   \n",
       "8211  file_brain_AXT1POST_201_6002806      8          No  105.0   86.0   50.0   \n",
       "8212  file_brain_AXT1POST_201_6002806      9          No  118.0  100.0   37.0   \n",
       "\n",
       "      height                            label  \n",
       "0        6.0  Nonspecific white matter lesion  \n",
       "1        7.0  Nonspecific white matter lesion  \n",
       "2        6.0  Nonspecific white matter lesion  \n",
       "3        6.0  Nonspecific white matter lesion  \n",
       "4        5.0  Nonspecific white matter lesion  \n",
       "...      ...                              ...  \n",
       "8208    53.0                             Mass  \n",
       "8209    96.0                            Edema  \n",
       "8210    95.0                            Edema  \n",
       "8211    71.0                            Edema  \n",
       "8212    53.0                            Edema  \n",
       "\n",
       "[8213 rows x 8 columns]"
      ],
      "text/html": "<div>\n<style scoped>\n    .dataframe tbody tr th:only-of-type {\n        vertical-align: middle;\n    }\n\n    .dataframe tbody tr th {\n        vertical-align: top;\n    }\n\n    .dataframe thead th {\n        text-align: right;\n    }\n</style>\n<table border=\"1\" class=\"dataframe\">\n  <thead>\n    <tr style=\"text-align: right;\">\n      <th></th>\n      <th>file</th>\n      <th>slice</th>\n      <th>study_level</th>\n      <th>x</th>\n      <th>y</th>\n      <th>width</th>\n      <th>height</th>\n      <th>label</th>\n    </tr>\n  </thead>\n  <tbody>\n    <tr>\n      <th>0</th>\n      <td>file_brain_AXFLAIR_200_6002425</td>\n      <td>2</td>\n      <td>No</td>\n      <td>91.0</td>\n      <td>132.0</td>\n      <td>7.0</td>\n      <td>6.0</td>\n      <td>Nonspecific white matter lesion</td>\n    </tr>\n    <tr>\n      <th>1</th>\n      <td>file_brain_AXFLAIR_200_6002425</td>\n      <td>5</td>\n      <td>No</td>\n      <td>210.0</td>\n      <td>170.0</td>\n      <td>7.0</td>\n      <td>7.0</td>\n      <td>Nonspecific white matter lesion</td>\n    </tr>\n    <tr>\n      <th>2</th>\n      <td>file_brain_AXFLAIR_200_6002425</td>\n      <td>5</td>\n      <td>No</td>\n      <td>93.0</td>\n      <td>167.0</td>\n      <td>6.0</td>\n      <td>6.0</td>\n      <td>Nonspecific white matter lesion</td>\n    </tr>\n    <tr>\n      <th>3</th>\n      <td>file_brain_AXFLAIR_200_6002425</td>\n      <td>5</td>\n      <td>No</td>\n      <td>83.0</td>\n      <td>177.0</td>\n      <td>4.0</td>\n      <td>6.0</td>\n      <td>Nonspecific white matter lesion</td>\n    </tr>\n    <tr>\n      <th>4</th>\n      <td>file_brain_AXFLAIR_200_6002425</td>\n      <td>9</td>\n      <td>No</td>\n      <td>175.0</td>\n      <td>170.0</td>\n      <td>6.0</td>\n      <td>5.0</td>\n      <td>Nonspecific white matter lesion</td>\n    </tr>\n    <tr>\n      <th>...</th>\n      <td>...</td>\n      <td>...</td>\n      <td>...</td>\n      <td>...</td>\n      <td>...</td>\n      <td>...</td>\n      <td>...</td>\n      <td>...</td>\n    </tr>\n    <tr>\n      <th>8208</th>\n      <td>file_brain_AXT1POST_201_6002806</td>\n      <td>6</td>\n      <td>No</td>\n      <td>112.0</td>\n      <td>71.0</td>\n      <td>45.0</td>\n      <td>53.0</td>\n      <td>Mass</td>\n    </tr>\n    <tr>\n      <th>8209</th>\n      <td>file_brain_AXT1POST_201_6002806</td>\n      <td>6</td>\n      <td>No</td>\n      <td>99.0</td>\n      <td>69.0</td>\n      <td>65.0</td>\n      <td>96.0</td>\n      <td>Edema</td>\n    </tr>\n    <tr>\n      <th>8210</th>\n      <td>file_brain_AXT1POST_201_6002806</td>\n      <td>7</td>\n      <td>No</td>\n      <td>100.0</td>\n      <td>69.0</td>\n      <td>61.0</td>\n      <td>95.0</td>\n      <td>Edema</td>\n    </tr>\n    <tr>\n      <th>8211</th>\n      <td>file_brain_AXT1POST_201_6002806</td>\n      <td>8</td>\n      <td>No</td>\n      <td>105.0</td>\n      <td>86.0</td>\n      <td>50.0</td>\n      <td>71.0</td>\n      <td>Edema</td>\n    </tr>\n    <tr>\n      <th>8212</th>\n      <td>file_brain_AXT1POST_201_6002806</td>\n      <td>9</td>\n      <td>No</td>\n      <td>118.0</td>\n      <td>100.0</td>\n      <td>37.0</td>\n      <td>53.0</td>\n      <td>Edema</td>\n    </tr>\n  </tbody>\n</table>\n<p>8213 rows × 8 columns</p>\n</div>"
     },
     "metadata": {},
     "execution_count": 5
    }
   ],
   "source": [
    "annatations_df"
   ]
  },
  {
   "cell_type": "code",
   "execution_count": 15,
   "metadata": {},
   "outputs": [
    {
     "output_type": "stream",
     "name": "stdout",
     "text": [
      "[0, 1, 2, 3, 4, 7, 9]\ndict_keys([0, 1, 2, 3, 4, 7, 9])\n[['file_brain_AXFLAIR_200_6002429', 0, 'No', 187.0, 221.0, 14.0, 22.0, 'Nonspecific white matter lesion'], ['file_brain_AXFLAIR_200_6002429', 0, 'No', 109.0, 203.0, 30.0, 62.0, 'Nonspecific white matter lesion'], ['file_brain_AXFLAIR_200_6002429', 0, 'No', 182.0, 101.0, 9.0, 15.0, 'Nonspecific white matter lesion'], ['file_brain_AXFLAIR_200_6002429', 0, 'No', 134.0, 96.0, 8.0, 14.0, 'Nonspecific white matter lesion']]\n"
     ]
    }
   ],
   "source": [
    "def get_label(data_frame, file_name, slice=None):\n",
    "    results = {}\n",
    "\n",
    "    if file_name[-3:] == '.h5':\n",
    "        file_name = file_name[:-3]\n",
    "\n",
    "    file_label = data_frame.loc[data_frame['file'] == file_name]\n",
    "\n",
    "    if slice is None:\n",
    "        slice = list(file_label['slice'].unique())\n",
    "        print(slice)\n",
    "    else:\n",
    "        slice = [slice]\n",
    "\n",
    "    for i in slice:\n",
    "        label = file_label.loc[file_label['slice'] == i].values.tolist()\n",
    "        results[i] = label\n",
    "\n",
    "    return results\n",
    "\n",
    "def kspace2image(mri_kspace, slice=None):\n",
    "    results = []\n",
    "\n",
    "    if slice:\n",
    "        slice = [slice]\n",
    "    else:\n",
    "        slice = [i for i in range(mri_kspace.shape[0])]\n",
    "\n",
    "    for i in slice:\n",
    "        kspace_slice = mri_kspace[i]\n",
    "        kspace_slice = fastmri.data.transforms.to_tensor(kspace_slice)\n",
    "        slice_image = fastmri.ifft2c(kspace_slice)\n",
    "        slice_image = fastmri.complex_abs(slice_image) \n",
    "        if len(kspace_slice.shape) == 3:\n",
    "            slice_image = fastmri.rss(slice_image, dim=0)\n",
    "        slice_image = np.abs(slice_image.numpy())\n",
    "        results.append(slice_image)\n",
    "\n",
    "    if len(results) == 1:\n",
    "        results = results[0]\n",
    "\n",
    "    return results\n",
    "\n",
    "label = get_label(annatations_df, annotated_file_names[0])\n",
    "print(label.keys())\n",
    "print(label[0])"
   ]
  },
  {
   "cell_type": "code",
   "execution_count": 16,
   "metadata": {},
   "outputs": [],
   "source": [
    "def plot_bounding_box(image, labels):\n",
    "    plotted_image = PIL.ImageDraw.Draw(image)\n",
    "    for label in labels:\n",
    "        _, _, _, x0, y0, w, h, label_txt = label\n",
    "        x1 = x0 + w\n",
    "        y1 = y0 + h\n",
    "        plotted_image.rectangle(((x0,y0), (x1,y1)), outline=\"white\")\n",
    "        plotted_image.text((x0, max(0, y0 - 10)), label_txt, fill= \"white\")\n",
    "    return np.array(image)"
   ]
  }
 ],
 "metadata": {
  "kernelspec": {
   "display_name": "Python 3",
   "language": "python",
   "name": "python3"
  },
  "language_info": {
   "codemirror_mode": {
    "name": "ipython",
    "version": 3
   },
   "file_extension": ".py",
   "mimetype": "text/x-python",
   "name": "python",
   "nbconvert_exporter": "python",
   "pygments_lexer": "ipython3",
   "version": "3.9.7-final"
  }
 },
 "nbformat": 4,
 "nbformat_minor": 5
}