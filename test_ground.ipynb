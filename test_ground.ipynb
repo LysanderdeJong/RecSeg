{
 "cells": [
  {
   "cell_type": "code",
   "execution_count": 1,
   "id": "511c598b-b94e-431e-ab68-2d4b1050536c",
   "metadata": {},
   "outputs": [],
   "source": [
    "import fastmri"
   ]
  },
  {
   "cell_type": "code",
   "execution_count": 3,
   "id": "695098e2-7320-423b-9f7d-27b0a44fcfff",
   "metadata": {},
   "outputs": [
    {
     "data": {
      "text/plain": [
       "'0.1.2a20210917b'"
      ]
     },
     "execution_count": 3,
     "metadata": {},
     "output_type": "execute_result"
    }
   ],
   "source": [
    "fastmri.__version__"
   ]
  },
  {
   "cell_type": "code",
   "execution_count": null,
   "id": "2e3b3ddd-bec2-4635-8093-a4f193f2f390",
   "metadata": {},
   "outputs": [],
   "source": []
  }
 ],
 "metadata": {
  "kernelspec": {
   "display_name": "Python 3",
   "language": "python",
   "name": "python3"
  },
  "language_info": {
   "codemirror_mode": {
    "name": "ipython",
    "version": 3
   },
   "file_extension": ".py",
   "mimetype": "text/x-python",
   "name": "python",
   "nbconvert_exporter": "python",
   "pygments_lexer": "ipython3",
   "version": "3.9.7"
  }
 },
 "nbformat": 4,
 "nbformat_minor": 5
}
